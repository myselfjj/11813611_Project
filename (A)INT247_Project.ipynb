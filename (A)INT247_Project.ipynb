{
 "cells": [
  {
   "cell_type": "code",
   "execution_count": 1,
   "metadata": {},
   "outputs": [],
   "source": [
    "import pandas as pd\n",
    "import numpy as np\n",
    "from sklearn.metrics import confusion_matrix\n",
    "from sklearn.metrics import accuracy_score\n",
    "from sklearn.metrics import classification_report\n",
    "from sklearn.model_selection import cross_val_score\n",
    "from sklearn import preprocessing\n"
   ]
  },
  {
   "cell_type": "markdown",
   "metadata": {},
   "source": [
    "# Preparing Data"
   ]
  },
  {
   "cell_type": "code",
   "execution_count": 2,
   "metadata": {},
   "outputs": [],
   "source": [
    "#Original Dataset do not have column names so we need to assign it.\n",
    "col_names=['IDENTIF','RIVER','LOCATION',\n",
    "            'ERECTED','PURPOSE','LENGTH',\n",
    "            'LANES','CLEAR-G','T-OR-D',\n",
    "            'MATERIAL','SPAN','REL-L','TYPE']\n"
   ]
  },
  {
   "cell_type": "code",
   "execution_count": 3,
   "metadata": {},
   "outputs": [],
   "source": [
    "df=pd.read_csv(\"bridges.csv\", names=col_names)"
   ]
  },
  {
   "cell_type": "code",
   "execution_count": 223,
   "metadata": {},
   "outputs": [
    {
     "data": {
      "text/html": [
       "<div>\n",
       "<style scoped>\n",
       "    .dataframe tbody tr th:only-of-type {\n",
       "        vertical-align: middle;\n",
       "    }\n",
       "\n",
       "    .dataframe tbody tr th {\n",
       "        vertical-align: top;\n",
       "    }\n",
       "\n",
       "    .dataframe thead th {\n",
       "        text-align: right;\n",
       "    }\n",
       "</style>\n",
       "<table border=\"1\" class=\"dataframe\">\n",
       "  <thead>\n",
       "    <tr style=\"text-align: right;\">\n",
       "      <th></th>\n",
       "      <th>IDENTIF</th>\n",
       "      <th>RIVER</th>\n",
       "      <th>LOCATION</th>\n",
       "      <th>ERECTED</th>\n",
       "      <th>PURPOSE</th>\n",
       "      <th>LENGTH</th>\n",
       "      <th>LANES</th>\n",
       "      <th>CLEAR-G</th>\n",
       "      <th>T-OR-D</th>\n",
       "      <th>MATERIAL</th>\n",
       "      <th>SPAN</th>\n",
       "      <th>REL-L</th>\n",
       "      <th>TYPE</th>\n",
       "    </tr>\n",
       "  </thead>\n",
       "  <tbody>\n",
       "    <tr>\n",
       "      <th>0</th>\n",
       "      <td>E1</td>\n",
       "      <td>M</td>\n",
       "      <td>3</td>\n",
       "      <td>1818</td>\n",
       "      <td>HIGHWAY</td>\n",
       "      <td>?</td>\n",
       "      <td>2</td>\n",
       "      <td>N</td>\n",
       "      <td>THROUGH</td>\n",
       "      <td>WOOD</td>\n",
       "      <td>SHORT</td>\n",
       "      <td>S</td>\n",
       "      <td>WOOD</td>\n",
       "    </tr>\n",
       "    <tr>\n",
       "      <th>1</th>\n",
       "      <td>E2</td>\n",
       "      <td>A</td>\n",
       "      <td>25</td>\n",
       "      <td>1819</td>\n",
       "      <td>HIGHWAY</td>\n",
       "      <td>1037</td>\n",
       "      <td>2</td>\n",
       "      <td>N</td>\n",
       "      <td>THROUGH</td>\n",
       "      <td>WOOD</td>\n",
       "      <td>SHORT</td>\n",
       "      <td>S</td>\n",
       "      <td>WOOD</td>\n",
       "    </tr>\n",
       "    <tr>\n",
       "      <th>2</th>\n",
       "      <td>E3</td>\n",
       "      <td>A</td>\n",
       "      <td>39</td>\n",
       "      <td>1829</td>\n",
       "      <td>AQUEDUCT</td>\n",
       "      <td>?</td>\n",
       "      <td>1</td>\n",
       "      <td>N</td>\n",
       "      <td>THROUGH</td>\n",
       "      <td>WOOD</td>\n",
       "      <td>?</td>\n",
       "      <td>S</td>\n",
       "      <td>WOOD</td>\n",
       "    </tr>\n",
       "    <tr>\n",
       "      <th>3</th>\n",
       "      <td>E5</td>\n",
       "      <td>A</td>\n",
       "      <td>29</td>\n",
       "      <td>1837</td>\n",
       "      <td>HIGHWAY</td>\n",
       "      <td>1000</td>\n",
       "      <td>2</td>\n",
       "      <td>N</td>\n",
       "      <td>THROUGH</td>\n",
       "      <td>WOOD</td>\n",
       "      <td>SHORT</td>\n",
       "      <td>S</td>\n",
       "      <td>WOOD</td>\n",
       "    </tr>\n",
       "    <tr>\n",
       "      <th>4</th>\n",
       "      <td>E6</td>\n",
       "      <td>M</td>\n",
       "      <td>23</td>\n",
       "      <td>1838</td>\n",
       "      <td>HIGHWAY</td>\n",
       "      <td>?</td>\n",
       "      <td>2</td>\n",
       "      <td>N</td>\n",
       "      <td>THROUGH</td>\n",
       "      <td>WOOD</td>\n",
       "      <td>?</td>\n",
       "      <td>S</td>\n",
       "      <td>WOOD</td>\n",
       "    </tr>\n",
       "  </tbody>\n",
       "</table>\n",
       "</div>"
      ],
      "text/plain": [
       "  IDENTIF RIVER LOCATION  ERECTED   PURPOSE LENGTH LANES CLEAR-G   T-OR-D  \\\n",
       "0      E1     M        3     1818   HIGHWAY      ?     2       N  THROUGH   \n",
       "1      E2     A       25     1819   HIGHWAY   1037     2       N  THROUGH   \n",
       "2      E3     A       39     1829  AQUEDUCT      ?     1       N  THROUGH   \n",
       "3      E5     A       29     1837   HIGHWAY   1000     2       N  THROUGH   \n",
       "4      E6     M       23     1838   HIGHWAY      ?     2       N  THROUGH   \n",
       "\n",
       "  MATERIAL   SPAN REL-L  TYPE  \n",
       "0     WOOD  SHORT     S  WOOD  \n",
       "1     WOOD  SHORT     S  WOOD  \n",
       "2     WOOD      ?     S  WOOD  \n",
       "3     WOOD  SHORT     S  WOOD  \n",
       "4     WOOD      ?     S  WOOD  "
      ]
     },
     "execution_count": 223,
     "metadata": {},
     "output_type": "execute_result"
    }
   ],
   "source": [
    "df.head()"
   ]
  },
  {
   "cell_type": "code",
   "execution_count": 224,
   "metadata": {},
   "outputs": [
    {
     "name": "stdout",
     "output_type": "stream",
     "text": [
      "<class 'pandas.core.frame.DataFrame'>\n",
      "RangeIndex: 108 entries, 0 to 107\n",
      "Data columns (total 13 columns):\n",
      "IDENTIF     108 non-null object\n",
      "RIVER       108 non-null object\n",
      "LOCATION    108 non-null object\n",
      "ERECTED     108 non-null int64\n",
      "PURPOSE     108 non-null object\n",
      "LENGTH      108 non-null object\n",
      "LANES       108 non-null object\n",
      "CLEAR-G     108 non-null object\n",
      "T-OR-D      108 non-null object\n",
      "MATERIAL    108 non-null object\n",
      "SPAN        108 non-null object\n",
      "REL-L       108 non-null object\n",
      "TYPE        108 non-null object\n",
      "dtypes: int64(1), object(12)\n",
      "memory usage: 11.0+ KB\n"
     ]
    }
   ],
   "source": [
    "df.info()"
   ]
  },
  {
   "cell_type": "markdown",
   "metadata": {},
   "source": [
    "Missing values is represented by \"?\""
   ]
  },
  {
   "cell_type": "code",
   "execution_count": 225,
   "metadata": {},
   "outputs": [
    {
     "data": {
      "text/plain": [
       "IDENTIF     False\n",
       "RIVER       False\n",
       "LOCATION    False\n",
       "ERECTED     False\n",
       "PURPOSE     False\n",
       "LENGTH      False\n",
       "LANES       False\n",
       "CLEAR-G     False\n",
       "T-OR-D      False\n",
       "MATERIAL    False\n",
       "SPAN        False\n",
       "REL-L       False\n",
       "TYPE        False\n",
       "dtype: bool"
      ]
     },
     "execution_count": 225,
     "metadata": {},
     "output_type": "execute_result"
    }
   ],
   "source": [
    "df.isnull().any()"
   ]
  },
  {
   "cell_type": "code",
   "execution_count": 226,
   "metadata": {},
   "outputs": [
    {
     "name": "stdout",
     "output_type": "stream",
     "text": [
      "IDENTIF      0\n",
      "RIVER        0\n",
      "LOCATION     1\n",
      "ERECTED      0\n",
      "PURPOSE      0\n",
      "LENGTH      27\n",
      "LANES       16\n",
      "CLEAR-G      2\n",
      "T-OR-D       6\n",
      "MATERIAL     2\n",
      "SPAN        16\n",
      "REL-L        5\n",
      "TYPE         2\n",
      "dtype: int64\n"
     ]
    }
   ],
   "source": [
    "#converting \"?\" into NaN for easy identification\n",
    "df.replace('?',np.NaN,inplace=True)\n",
    "print(df.isnull().sum())"
   ]
  },
  {
   "cell_type": "code",
   "execution_count": 227,
   "metadata": {},
   "outputs": [
    {
     "data": {
      "text/html": [
       "<div>\n",
       "<style scoped>\n",
       "    .dataframe tbody tr th:only-of-type {\n",
       "        vertical-align: middle;\n",
       "    }\n",
       "\n",
       "    .dataframe tbody tr th {\n",
       "        vertical-align: top;\n",
       "    }\n",
       "\n",
       "    .dataframe thead th {\n",
       "        text-align: right;\n",
       "    }\n",
       "</style>\n",
       "<table border=\"1\" class=\"dataframe\">\n",
       "  <thead>\n",
       "    <tr style=\"text-align: right;\">\n",
       "      <th></th>\n",
       "      <th>IDENTIF</th>\n",
       "      <th>RIVER</th>\n",
       "      <th>LOCATION</th>\n",
       "      <th>ERECTED</th>\n",
       "      <th>PURPOSE</th>\n",
       "      <th>LENGTH</th>\n",
       "      <th>LANES</th>\n",
       "      <th>CLEAR-G</th>\n",
       "      <th>T-OR-D</th>\n",
       "      <th>MATERIAL</th>\n",
       "      <th>SPAN</th>\n",
       "      <th>REL-L</th>\n",
       "      <th>TYPE</th>\n",
       "    </tr>\n",
       "  </thead>\n",
       "  <tbody>\n",
       "    <tr>\n",
       "      <th>0</th>\n",
       "      <td>E1</td>\n",
       "      <td>M</td>\n",
       "      <td>3</td>\n",
       "      <td>1818</td>\n",
       "      <td>HIGHWAY</td>\n",
       "      <td>NaN</td>\n",
       "      <td>2</td>\n",
       "      <td>N</td>\n",
       "      <td>THROUGH</td>\n",
       "      <td>WOOD</td>\n",
       "      <td>SHORT</td>\n",
       "      <td>S</td>\n",
       "      <td>WOOD</td>\n",
       "    </tr>\n",
       "    <tr>\n",
       "      <th>1</th>\n",
       "      <td>E2</td>\n",
       "      <td>A</td>\n",
       "      <td>25</td>\n",
       "      <td>1819</td>\n",
       "      <td>HIGHWAY</td>\n",
       "      <td>1037</td>\n",
       "      <td>2</td>\n",
       "      <td>N</td>\n",
       "      <td>THROUGH</td>\n",
       "      <td>WOOD</td>\n",
       "      <td>SHORT</td>\n",
       "      <td>S</td>\n",
       "      <td>WOOD</td>\n",
       "    </tr>\n",
       "    <tr>\n",
       "      <th>2</th>\n",
       "      <td>E3</td>\n",
       "      <td>A</td>\n",
       "      <td>39</td>\n",
       "      <td>1829</td>\n",
       "      <td>AQUEDUCT</td>\n",
       "      <td>NaN</td>\n",
       "      <td>1</td>\n",
       "      <td>N</td>\n",
       "      <td>THROUGH</td>\n",
       "      <td>WOOD</td>\n",
       "      <td>NaN</td>\n",
       "      <td>S</td>\n",
       "      <td>WOOD</td>\n",
       "    </tr>\n",
       "    <tr>\n",
       "      <th>3</th>\n",
       "      <td>E5</td>\n",
       "      <td>A</td>\n",
       "      <td>29</td>\n",
       "      <td>1837</td>\n",
       "      <td>HIGHWAY</td>\n",
       "      <td>1000</td>\n",
       "      <td>2</td>\n",
       "      <td>N</td>\n",
       "      <td>THROUGH</td>\n",
       "      <td>WOOD</td>\n",
       "      <td>SHORT</td>\n",
       "      <td>S</td>\n",
       "      <td>WOOD</td>\n",
       "    </tr>\n",
       "    <tr>\n",
       "      <th>4</th>\n",
       "      <td>E6</td>\n",
       "      <td>M</td>\n",
       "      <td>23</td>\n",
       "      <td>1838</td>\n",
       "      <td>HIGHWAY</td>\n",
       "      <td>NaN</td>\n",
       "      <td>2</td>\n",
       "      <td>N</td>\n",
       "      <td>THROUGH</td>\n",
       "      <td>WOOD</td>\n",
       "      <td>NaN</td>\n",
       "      <td>S</td>\n",
       "      <td>WOOD</td>\n",
       "    </tr>\n",
       "  </tbody>\n",
       "</table>\n",
       "</div>"
      ],
      "text/plain": [
       "  IDENTIF RIVER LOCATION  ERECTED   PURPOSE LENGTH LANES CLEAR-G   T-OR-D  \\\n",
       "0      E1     M        3     1818   HIGHWAY    NaN     2       N  THROUGH   \n",
       "1      E2     A       25     1819   HIGHWAY   1037     2       N  THROUGH   \n",
       "2      E3     A       39     1829  AQUEDUCT    NaN     1       N  THROUGH   \n",
       "3      E5     A       29     1837   HIGHWAY   1000     2       N  THROUGH   \n",
       "4      E6     M       23     1838   HIGHWAY    NaN     2       N  THROUGH   \n",
       "\n",
       "  MATERIAL   SPAN REL-L  TYPE  \n",
       "0     WOOD  SHORT     S  WOOD  \n",
       "1     WOOD  SHORT     S  WOOD  \n",
       "2     WOOD    NaN     S  WOOD  \n",
       "3     WOOD  SHORT     S  WOOD  \n",
       "4     WOOD    NaN     S  WOOD  "
      ]
     },
     "execution_count": 227,
     "metadata": {},
     "output_type": "execute_result"
    }
   ],
   "source": [
    "df.head()"
   ]
  },
  {
   "cell_type": "code",
   "execution_count": 228,
   "metadata": {},
   "outputs": [],
   "source": [
    "df=df.drop('IDENTIF',axis=1)"
   ]
  },
  {
   "cell_type": "code",
   "execution_count": 229,
   "metadata": {},
   "outputs": [],
   "source": [
    "#removing null val\n",
    "df['LENGTH']=df['LENGTH'].fillna(df.mean(axis=1))"
   ]
  },
  {
   "cell_type": "code",
   "execution_count": 230,
   "metadata": {},
   "outputs": [],
   "source": [
    "df['LOCATION']=df['LOCATION'].fillna(df['LOCATION'].head().mean())"
   ]
  },
  {
   "cell_type": "code",
   "execution_count": 231,
   "metadata": {},
   "outputs": [],
   "source": [
    "scaler = preprocessing.StandardScaler()\n",
    "df[['LOCATION','LENGTH','ERECTED']] = scaler.fit_transform(df[['LOCATION','LENGTH','ERECTED']])"
   ]
  },
  {
   "cell_type": "code",
   "execution_count": 232,
   "metadata": {},
   "outputs": [],
   "source": [
    "df.replace(np.NaN,'none',inplace=True)"
   ]
  },
  {
   "cell_type": "code",
   "execution_count": 233,
   "metadata": {},
   "outputs": [],
   "source": [
    "#LabelEncoding for type object\n",
    "from sklearn.preprocessing import LabelEncoder\n",
    "df1=df[['RIVER','PURPOSE','LANES','CLEAR-G','T-OR-D','MATERIAL','SPAN','REL-L','TYPE']].apply(LabelEncoder().fit_transform)"
   ]
  },
  {
   "cell_type": "code",
   "execution_count": 234,
   "metadata": {},
   "outputs": [],
   "source": [
    "df1 = pd.concat([df[['LOCATION','LENGTH','ERECTED']],df1],axis=1)\n"
   ]
  },
  {
   "cell_type": "code",
   "execution_count": 235,
   "metadata": {},
   "outputs": [
    {
     "data": {
      "text/html": [
       "<div>\n",
       "<style scoped>\n",
       "    .dataframe tbody tr th:only-of-type {\n",
       "        vertical-align: middle;\n",
       "    }\n",
       "\n",
       "    .dataframe tbody tr th {\n",
       "        vertical-align: top;\n",
       "    }\n",
       "\n",
       "    .dataframe thead th {\n",
       "        text-align: right;\n",
       "    }\n",
       "</style>\n",
       "<table border=\"1\" class=\"dataframe\">\n",
       "  <thead>\n",
       "    <tr style=\"text-align: right;\">\n",
       "      <th></th>\n",
       "      <th>LOCATION</th>\n",
       "      <th>LENGTH</th>\n",
       "      <th>ERECTED</th>\n",
       "      <th>RIVER</th>\n",
       "      <th>PURPOSE</th>\n",
       "      <th>LANES</th>\n",
       "      <th>CLEAR-G</th>\n",
       "      <th>T-OR-D</th>\n",
       "      <th>MATERIAL</th>\n",
       "      <th>SPAN</th>\n",
       "      <th>REL-L</th>\n",
       "      <th>TYPE</th>\n",
       "    </tr>\n",
       "  </thead>\n",
       "  <tbody>\n",
       "    <tr>\n",
       "      <th>0</th>\n",
       "      <td>-0.096677</td>\n",
       "      <td>0.257712</td>\n",
       "      <td>-2.359786</td>\n",
       "      <td>1</td>\n",
       "      <td>1</td>\n",
       "      <td>1</td>\n",
       "      <td>1</td>\n",
       "      <td>1</td>\n",
       "      <td>2</td>\n",
       "      <td>2</td>\n",
       "      <td>1</td>\n",
       "      <td>6</td>\n",
       "    </tr>\n",
       "    <tr>\n",
       "      <th>1</th>\n",
       "      <td>-0.096674</td>\n",
       "      <td>-0.927989</td>\n",
       "      <td>-2.332759</td>\n",
       "      <td>0</td>\n",
       "      <td>1</td>\n",
       "      <td>1</td>\n",
       "      <td>1</td>\n",
       "      <td>1</td>\n",
       "      <td>2</td>\n",
       "      <td>2</td>\n",
       "      <td>1</td>\n",
       "      <td>6</td>\n",
       "    </tr>\n",
       "    <tr>\n",
       "      <th>2</th>\n",
       "      <td>-0.096672</td>\n",
       "      <td>0.274412</td>\n",
       "      <td>-2.062498</td>\n",
       "      <td>0</td>\n",
       "      <td>0</td>\n",
       "      <td>0</td>\n",
       "      <td>1</td>\n",
       "      <td>1</td>\n",
       "      <td>2</td>\n",
       "      <td>3</td>\n",
       "      <td>1</td>\n",
       "      <td>6</td>\n",
       "    </tr>\n",
       "    <tr>\n",
       "      <th>3</th>\n",
       "      <td>-0.096673</td>\n",
       "      <td>-0.984162</td>\n",
       "      <td>-1.846288</td>\n",
       "      <td>0</td>\n",
       "      <td>1</td>\n",
       "      <td>1</td>\n",
       "      <td>1</td>\n",
       "      <td>1</td>\n",
       "      <td>2</td>\n",
       "      <td>2</td>\n",
       "      <td>1</td>\n",
       "      <td>6</td>\n",
       "    </tr>\n",
       "    <tr>\n",
       "      <th>4</th>\n",
       "      <td>-0.096674</td>\n",
       "      <td>0.288075</td>\n",
       "      <td>-1.819262</td>\n",
       "      <td>1</td>\n",
       "      <td>1</td>\n",
       "      <td>1</td>\n",
       "      <td>1</td>\n",
       "      <td>1</td>\n",
       "      <td>2</td>\n",
       "      <td>3</td>\n",
       "      <td>1</td>\n",
       "      <td>6</td>\n",
       "    </tr>\n",
       "  </tbody>\n",
       "</table>\n",
       "</div>"
      ],
      "text/plain": [
       "   LOCATION    LENGTH   ERECTED  RIVER  PURPOSE  LANES  CLEAR-G  T-OR-D  \\\n",
       "0 -0.096677  0.257712 -2.359786      1        1      1        1       1   \n",
       "1 -0.096674 -0.927989 -2.332759      0        1      1        1       1   \n",
       "2 -0.096672  0.274412 -2.062498      0        0      0        1       1   \n",
       "3 -0.096673 -0.984162 -1.846288      0        1      1        1       1   \n",
       "4 -0.096674  0.288075 -1.819262      1        1      1        1       1   \n",
       "\n",
       "   MATERIAL  SPAN  REL-L  TYPE  \n",
       "0         2     2      1     6  \n",
       "1         2     2      1     6  \n",
       "2         2     3      1     6  \n",
       "3         2     2      1     6  \n",
       "4         2     3      1     6  "
      ]
     },
     "execution_count": 235,
     "metadata": {},
     "output_type": "execute_result"
    }
   ],
   "source": [
    "df1.head()"
   ]
  },
  {
   "cell_type": "code",
   "execution_count": 236,
   "metadata": {},
   "outputs": [
    {
     "data": {
      "text/plain": [
       "array([6, 5, 4, 0, 1, 3, 2, 7], dtype=int64)"
      ]
     },
     "execution_count": 236,
     "metadata": {},
     "output_type": "execute_result"
    }
   ],
   "source": [
    "df1['TYPE'].unique()"
   ]
  },
  {
   "cell_type": "code",
   "execution_count": null,
   "metadata": {},
   "outputs": [],
   "source": []
  },
  {
   "cell_type": "markdown",
   "metadata": {},
   "source": [
    "### Train-Test Split"
   ]
  },
  {
   "cell_type": "code",
   "execution_count": 237,
   "metadata": {},
   "outputs": [],
   "source": [
    "X=df1.drop('TYPE',axis=1)\n",
    "Y=df1['TYPE']"
   ]
  },
  {
   "cell_type": "code",
   "execution_count": 238,
   "metadata": {},
   "outputs": [],
   "source": [
    "from sklearn.model_selection import train_test_split\n"
   ]
  },
  {
   "cell_type": "code",
   "execution_count": 239,
   "metadata": {},
   "outputs": [],
   "source": [
    "X_train, X_test, y_train, y_test = train_test_split(X, Y, test_size=0.3)\n"
   ]
  },
  {
   "cell_type": "markdown",
   "metadata": {},
   "source": [
    "# Choosing Model, Training and Evaluation(Confusion Matrix)"
   ]
  },
  {
   "cell_type": "markdown",
   "metadata": {},
   "source": [
    "## Naive Bayes"
   ]
  },
  {
   "cell_type": "code",
   "execution_count": 240,
   "metadata": {},
   "outputs": [],
   "source": [
    "from sklearn.naive_bayes import GaussianNB\n",
    "gnb = GaussianNB()\n",
    "\n",
    "# Performing training\n",
    "gnb.fit(X_train, y_train)\n",
    "y_pred_NB = gnb.predict(X_test)"
   ]
  },
  {
   "cell_type": "code",
   "execution_count": 241,
   "metadata": {},
   "outputs": [
    {
     "data": {
      "text/plain": [
       "0.5370370370370371"
      ]
     },
     "execution_count": 241,
     "metadata": {},
     "output_type": "execute_result"
    }
   ],
   "source": [
    "gnb.score(X_train,y_train)"
   ]
  },
  {
   "cell_type": "code",
   "execution_count": 242,
   "metadata": {},
   "outputs": [
    {
     "name": "stdout",
     "output_type": "stream",
     "text": [
      "Confusion Matrix: \n",
      " [[ 6  1  0  0  0  0]\n",
      " [ 1  2  1  0  0  0]\n",
      " [ 1  1  1  0  0  0]\n",
      " [ 6 16  0  2  2  0]\n",
      " [ 1  1  0  1  2  0]\n",
      " [ 0  0  0  0  0  9]]\n",
      "Accuracy :  40.74074074074074\n",
      "Report : \n",
      "               precision    recall  f1-score   support\n",
      "\n",
      "           0       0.40      0.86      0.55         7\n",
      "           1       0.10      0.50      0.16         4\n",
      "           2       0.50      0.33      0.40         3\n",
      "           4       0.67      0.08      0.14        26\n",
      "           5       0.50      0.40      0.44         5\n",
      "           6       1.00      1.00      1.00         9\n",
      "\n",
      "    accuracy                           0.41        54\n",
      "   macro avg       0.53      0.53      0.45        54\n",
      "weighted avg       0.62      0.41      0.38        54\n",
      "\n"
     ]
    }
   ],
   "source": [
    "print(\"Confusion Matrix: \\n\",\n",
    "        confusion_matrix(y_test, y_pred_NB))\n",
    "print (\"Accuracy : \",\n",
    "    accuracy_score(y_test,y_pred_NB)*100)\n",
    "\n",
    "nb_score=accuracy_score(y_test,y_pred_NB)*100\n",
    "\n",
    "print(\"Report : \\n\",\n",
    "    classification_report(y_test, y_pred_NB))"
   ]
  },
  {
   "cell_type": "code",
   "execution_count": 243,
   "metadata": {},
   "outputs": [
    {
     "name": "stdout",
     "output_type": "stream",
     "text": [
      "32.15229215229215\n"
     ]
    },
    {
     "name": "stderr",
     "output_type": "stream",
     "text": [
      "C:\\Users\\hp\\Anaconda3\\lib\\site-packages\\sklearn\\model_selection\\_split.py:657: Warning: The least populated class in y has only 1 members, which is too few. The minimum number of members in any class cannot be less than n_splits=10.\n",
      "  % (min_groups, self.n_splits)), Warning)\n"
     ]
    }
   ],
   "source": [
    "nb_cv = np.mean(cross_val_score(gnb, X, Y,cv=10) * 100)\n",
    "print(nb_cv)"
   ]
  },
  {
   "cell_type": "markdown",
   "metadata": {},
   "source": [
    "## Decision Tree"
   ]
  },
  {
   "cell_type": "code",
   "execution_count": 244,
   "metadata": {},
   "outputs": [],
   "source": [
    "from sklearn.tree import DecisionTreeClassifier\n",
    "dtree_score=[0,0]\n",
    "dtree_cv=[0,0]"
   ]
  },
  {
   "cell_type": "code",
   "execution_count": 245,
   "metadata": {},
   "outputs": [],
   "source": [
    "#perform training with giniIndex.\n",
    "# Creating the classifier object\n",
    "clf_gini = DecisionTreeClassifier(criterion = \"gini\",\n",
    "            random_state = 100,max_depth=3, min_samples_leaf=5)\n",
    "# Performing training\n",
    "clf_gini.fit(X_train, y_train)\n",
    "y_pred_DT_gini = clf_gini.predict(X_test)"
   ]
  },
  {
   "cell_type": "code",
   "execution_count": 246,
   "metadata": {},
   "outputs": [
    {
     "data": {
      "text/plain": [
       "0.6296296296296297"
      ]
     },
     "execution_count": 246,
     "metadata": {},
     "output_type": "execute_result"
    }
   ],
   "source": [
    "clf_gini.score(X_train,y_train)"
   ]
  },
  {
   "cell_type": "code",
   "execution_count": 247,
   "metadata": {},
   "outputs": [
    {
     "name": "stdout",
     "output_type": "stream",
     "text": [
      "Confusion Matrix: \n",
      " [[ 5  0  1  1  0  0]\n",
      " [ 1  0  2  1  0  0]\n",
      " [ 1  0  2  0  0  0]\n",
      " [ 4  0  0 22  0  0]\n",
      " [ 2  0  0  3  0  0]\n",
      " [ 0  0  0  0  0  9]]\n",
      "Accuracy :  70.37037037037037\n",
      "Report : \n",
      "               precision    recall  f1-score   support\n",
      "\n",
      "           0       0.38      0.71      0.50         7\n",
      "           1       0.00      0.00      0.00         4\n",
      "           2       0.40      0.67      0.50         3\n",
      "           4       0.81      0.85      0.83        26\n",
      "           5       0.00      0.00      0.00         5\n",
      "           6       1.00      1.00      1.00         9\n",
      "\n",
      "    accuracy                           0.70        54\n",
      "   macro avg       0.43      0.54      0.47        54\n",
      "weighted avg       0.63      0.70      0.66        54\n",
      "\n"
     ]
    },
    {
     "name": "stderr",
     "output_type": "stream",
     "text": [
      "C:\\Users\\hp\\Anaconda3\\lib\\site-packages\\sklearn\\metrics\\classification.py:1437: UndefinedMetricWarning: Precision and F-score are ill-defined and being set to 0.0 in labels with no predicted samples.\n",
      "  'precision', 'predicted', average, warn_for)\n"
     ]
    }
   ],
   "source": [
    "print(\"Confusion Matrix: \\n\",\n",
    "        confusion_matrix(y_test, y_pred_DT_gini))\n",
    "print (\"Accuracy : \",\n",
    "    accuracy_score(y_test,y_pred_DT_gini)*100)\n",
    "\n",
    "dtree_score[0]=accuracy_score(y_test,y_pred_DT_gini)*100\n",
    "\n",
    "print(\"Report : \\n\",\n",
    "    classification_report(y_test, y_pred_DT_gini))"
   ]
  },
  {
   "cell_type": "code",
   "execution_count": 248,
   "metadata": {},
   "outputs": [
    {
     "name": "stderr",
     "output_type": "stream",
     "text": [
      "C:\\Users\\hp\\Anaconda3\\lib\\site-packages\\sklearn\\model_selection\\_split.py:657: Warning: The least populated class in y has only 1 members, which is too few. The minimum number of members in any class cannot be less than n_splits=10.\n",
      "  % (min_groups, self.n_splits)), Warning)\n"
     ]
    }
   ],
   "source": [
    "dtree_cv[0] = np.mean(cross_val_score(clf_gini, X, Y, cv=10) * 100)"
   ]
  },
  {
   "cell_type": "code",
   "execution_count": 249,
   "metadata": {},
   "outputs": [],
   "source": [
    "# perform training with entropy.  \n",
    "# Decision tree with entropy\n",
    "clf_entropy = DecisionTreeClassifier(\n",
    "            criterion = \"entropy\", random_state = 100,\n",
    "            max_depth = 3, min_samples_leaf = 5)\n",
    "# Performing training\n",
    "clf_entropy.fit(X_train, y_train)\n",
    "y_pred_DT_ent = clf_entropy.predict(X_test)"
   ]
  },
  {
   "cell_type": "code",
   "execution_count": 250,
   "metadata": {},
   "outputs": [
    {
     "data": {
      "text/plain": [
       "0.6296296296296297"
      ]
     },
     "execution_count": 250,
     "metadata": {},
     "output_type": "execute_result"
    }
   ],
   "source": [
    "clf_entropy.score(X_train,y_train)"
   ]
  },
  {
   "cell_type": "code",
   "execution_count": 251,
   "metadata": {},
   "outputs": [
    {
     "name": "stdout",
     "output_type": "stream",
     "text": [
      "Confusion Matrix: \n",
      " [[ 5  0  1  1  0  0]\n",
      " [ 1  0  2  1  0  0]\n",
      " [ 1  0  2  0  0  0]\n",
      " [ 4  0  0 22  0  0]\n",
      " [ 2  0  0  3  0  0]\n",
      " [ 0  0  0  0  0  9]]\n",
      "Accuracy :  70.37037037037037\n",
      "Report : \n",
      "               precision    recall  f1-score   support\n",
      "\n",
      "           0       0.38      0.71      0.50         7\n",
      "           1       0.00      0.00      0.00         4\n",
      "           2       0.40      0.67      0.50         3\n",
      "           4       0.81      0.85      0.83        26\n",
      "           5       0.00      0.00      0.00         5\n",
      "           6       1.00      1.00      1.00         9\n",
      "\n",
      "    accuracy                           0.70        54\n",
      "   macro avg       0.43      0.54      0.47        54\n",
      "weighted avg       0.63      0.70      0.66        54\n",
      "\n"
     ]
    },
    {
     "name": "stderr",
     "output_type": "stream",
     "text": [
      "C:\\Users\\hp\\Anaconda3\\lib\\site-packages\\sklearn\\metrics\\classification.py:1437: UndefinedMetricWarning: Precision and F-score are ill-defined and being set to 0.0 in labels with no predicted samples.\n",
      "  'precision', 'predicted', average, warn_for)\n"
     ]
    }
   ],
   "source": [
    "print(\"Confusion Matrix: \\n\",\n",
    "        confusion_matrix(y_test, y_pred_DT_ent))\n",
    "print (\"Accuracy : \",\n",
    "    accuracy_score(y_test,y_pred_DT_ent)*100)\n",
    "\n",
    "dtree_score[1]=accuracy_score(y_test,y_pred_DT_ent)*100\n",
    "\n",
    "\n",
    "print(\"Report : \\n\",\n",
    "    classification_report(y_test, y_pred_DT_ent))"
   ]
  },
  {
   "cell_type": "code",
   "execution_count": 252,
   "metadata": {},
   "outputs": [
    {
     "name": "stderr",
     "output_type": "stream",
     "text": [
      "C:\\Users\\hp\\Anaconda3\\lib\\site-packages\\sklearn\\model_selection\\_split.py:657: Warning: The least populated class in y has only 1 members, which is too few. The minimum number of members in any class cannot be less than n_splits=10.\n",
      "  % (min_groups, self.n_splits)), Warning)\n"
     ]
    }
   ],
   "source": [
    "dtree_cv[1] = np.mean(cross_val_score(clf_entropy, X, Y, cv=10) * 100)"
   ]
  },
  {
   "cell_type": "markdown",
   "metadata": {},
   "source": [
    "## KNN"
   ]
  },
  {
   "cell_type": "code",
   "execution_count": 253,
   "metadata": {},
   "outputs": [],
   "source": [
    "import matplotlib.pyplot as plt\n",
    "from sklearn.neighbors import KNeighborsClassifier"
   ]
  },
  {
   "cell_type": "code",
   "execution_count": 254,
   "metadata": {},
   "outputs": [
    {
     "data": {
      "image/png": "[encoded data removed]",
      "text/plain": [
       "<Figure size 432x288 with 1 Axes>"
      ]
     },
     "metadata": {
      "needs_background": "light"
     },
     "output_type": "display_data"
    }
   ],
   "source": [
    "neighbors = np.arange(1, 9)\n",
    "train_accuracy = np.empty(len(neighbors))\n",
    "test_accuracy = np.empty(len(neighbors))\n",
    "for i, k in enumerate(neighbors):\n",
    "    knn = KNeighborsClassifier(n_neighbors=k)\n",
    "    knn.fit(X_train, y_train)\n",
    "      \n",
    "    # Compute traning and test data accuracy\n",
    "    train_accuracy[i] = knn.score(X_train, y_train)\n",
    "    test_accuracy[i] = knn.score(X_test, y_test)\n",
    "  \n",
    "#Generate plot\n",
    "plt.plot(neighbors, test_accuracy, label = 'Testing dataset Accuracy')\n",
    "plt.plot(neighbors, train_accuracy, label = 'Training dataset Accuracy')\n",
    "  \n",
    "plt.legend()\n",
    "plt.xlabel('n_neighbors')\n",
    "plt.ylabel('Accuracy')\n",
    "plt.show()"
   ]
  },
  {
   "cell_type": "code",
   "execution_count": 255,
   "metadata": {},
   "outputs": [],
   "source": [
    "y_pred_KNN = knn.predict(X_test)"
   ]
  },
  {
   "cell_type": "code",
   "execution_count": 256,
   "metadata": {},
   "outputs": [
    {
     "name": "stdout",
     "output_type": "stream",
     "text": [
      "Confusion Matrix: \n",
      " [[ 3  2  1  1  0  0]\n",
      " [ 2  1  1  0  0  0]\n",
      " [ 0  2  1  0  0  0]\n",
      " [ 3  4  0 19  0  0]\n",
      " [ 1  1  0  2  0  1]\n",
      " [ 0  0  0  0  0  9]]\n",
      "Accuracy :  61.111111111111114\n",
      "Report : \n",
      "               precision    recall  f1-score   support\n",
      "\n",
      "           0       0.33      0.43      0.38         7\n",
      "           1       0.10      0.25      0.14         4\n",
      "           2       0.33      0.33      0.33         3\n",
      "           4       0.86      0.73      0.79        26\n",
      "           5       0.00      0.00      0.00         5\n",
      "           6       0.90      1.00      0.95         9\n",
      "\n",
      "    accuracy                           0.61        54\n",
      "   macro avg       0.42      0.46      0.43        54\n",
      "weighted avg       0.63      0.61      0.62        54\n",
      "\n"
     ]
    },
    {
     "name": "stderr",
     "output_type": "stream",
     "text": [
      "C:\\Users\\hp\\Anaconda3\\lib\\site-packages\\sklearn\\metrics\\classification.py:1437: UndefinedMetricWarning: Precision and F-score are ill-defined and being set to 0.0 in labels with no predicted samples.\n",
      "  'precision', 'predicted', average, warn_for)\n"
     ]
    }
   ],
   "source": [
    "print(\"Confusion Matrix: \\n\",\n",
    "        confusion_matrix(y_test, y_pred_KNN))\n",
    "print (\"Accuracy : \",\n",
    "    accuracy_score(y_test,y_pred_KNN)*100)\n",
    "\n",
    "knn_score=accuracy_score(y_test,y_pred_KNN)*100\n",
    "\n",
    "print(\"Report : \\n\",\n",
    "    classification_report(y_test, y_pred_KNN))"
   ]
  },
  {
   "cell_type": "code",
   "execution_count": 257,
   "metadata": {},
   "outputs": [
    {
     "name": "stderr",
     "output_type": "stream",
     "text": [
      "C:\\Users\\hp\\Anaconda3\\lib\\site-packages\\sklearn\\model_selection\\_split.py:657: Warning: The least populated class in y has only 1 members, which is too few. The minimum number of members in any class cannot be less than n_splits=10.\n",
      "  % (min_groups, self.n_splits)), Warning)\n"
     ]
    }
   ],
   "source": [
    "knn_cv = np.mean(cross_val_score(knn, X, Y, cv=10) * 100)"
   ]
  },
  {
   "cell_type": "markdown",
   "metadata": {},
   "source": [
    "# Summary of Results"
   ]
  },
  {
   "cell_type": "code",
   "execution_count": 258,
   "metadata": {},
   "outputs": [
    {
     "data": {
      "text/html": [
       "<div>\n",
       "<style scoped>\n",
       "    .dataframe tbody tr th:only-of-type {\n",
       "        vertical-align: middle;\n",
       "    }\n",
       "\n",
       "    .dataframe tbody tr th {\n",
       "        vertical-align: top;\n",
       "    }\n",
       "\n",
       "    .dataframe thead th {\n",
       "        text-align: right;\n",
       "    }\n",
       "</style>\n",
       "<table border=\"1\" class=\"dataframe\">\n",
       "  <thead>\n",
       "    <tr style=\"text-align: right;\">\n",
       "      <th></th>\n",
       "      <th>Regular - Accuracy Score</th>\n",
       "      <th>Cross-Validation Score</th>\n",
       "    </tr>\n",
       "  </thead>\n",
       "  <tbody>\n",
       "    <tr>\n",
       "      <th>Decision Tree</th>\n",
       "      <td>70.370370</td>\n",
       "      <td>63.235237</td>\n",
       "    </tr>\n",
       "    <tr>\n",
       "      <th>KNN</th>\n",
       "      <td>61.111111</td>\n",
       "      <td>64.621018</td>\n",
       "    </tr>\n",
       "    <tr>\n",
       "      <th>Naive Bayes</th>\n",
       "      <td>40.740741</td>\n",
       "      <td>32.152292</td>\n",
       "    </tr>\n",
       "  </tbody>\n",
       "</table>\n",
       "</div>"
      ],
      "text/plain": [
       "               Regular - Accuracy Score  Cross-Validation Score\n",
       "Decision Tree                 70.370370               63.235237\n",
       "KNN                           61.111111               64.621018\n",
       "Naive Bayes                   40.740741               32.152292"
      ]
     },
     "execution_count": 258,
     "metadata": {},
     "output_type": "execute_result"
    }
   ],
   "source": [
    "df_results = pd.DataFrame.from_dict({\n",
    "    'Regular - Accuracy Score':{'KNN':knn_score, 'Decision Tree':max(dtree_score[0],dtree_score[1]), 'Naive Bayes':nb_score},\n",
    "'Cross-Validation Score':{'KNN':knn_cv, 'Decision Tree':max(dtree_cv[0],dtree_cv[1]), 'Naive Bayes':nb_cv}})\n",
    "df_results"
   ]
  },
  {
   "cell_type": "code",
   "execution_count": null,
   "metadata": {},
   "outputs": [],
   "source": []
  }
 ],
 "metadata": {
  "kernelspec": {
   "display_name": "Python 3",
   "language": "python",
   "name": "python3"
  },
  "language_info": {
   "codemirror_mode": {
    "name": "ipython",
    "version": 3
   },
   "file_extension": ".py",
   "mimetype": "text/x-python",
   "name": "python",
   "nbconvert_exporter": "python",
   "pygments_lexer": "ipython3",
   "version": "3.7.3"
  }
 },
 "nbformat": 4,
 "nbformat_minor": 2
}
